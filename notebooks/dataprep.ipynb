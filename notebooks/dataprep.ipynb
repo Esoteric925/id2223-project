{
 "cells": [
  {
   "cell_type": "code",
   "execution_count": 1,
   "metadata": {
    "collapsed": false,
    "deletable": true,
    "editable": true
   },
   "outputs": [
    {
     "name": "stdout",
     "output_type": "stream",
     "text": [
      "Starting Spark application\n"
     ]
    },
    {
     "data": {
      "text/html": [
       "<table>\n",
       "<tr><th>ID</th><th>YARN Application ID</th><th>Kind</th><th>State</th><th>Spark UI</th><th>Driver log</th><th>Current session?</th></tr><tr><td>2902</td><td>application_1513605045578_0131</td><td>pyspark</td><td>idle</td><td><a target=\"_blank\" href=\"http://hadoop30:8088/proxy/application_1513605045578_0131/\">Link</a></td><td><a target=\"_blank\" href=\"http://hadoop22:8042/node/containerlogs/container_e28_1513605045578_0131_01_000001/demo_tensorflow_abarose0__abarosen\">Link</a></td><td>✔</td></tr></table>"
      ],
      "text/plain": [
       "<IPython.core.display.HTML object>"
      ]
     },
     "metadata": {},
     "output_type": "display_data"
    },
    {
     "name": "stdout",
     "output_type": "stream",
     "text": [
      "SparkSession available as 'spark'.\n"
     ]
    }
   ],
   "source": [
    "import pyspark\n",
    "import pandas as pd\n",
    "import time\n",
    "from datetime import date\n",
    "import math\n",
    "\n",
    "\n"
   ]
  },
  {
   "cell_type": "code",
   "execution_count": null,
   "metadata": {
    "collapsed": true,
    "deletable": true,
    "editable": true
   },
   "outputs": [],
   "source": [
    "\n",
    "#Global variables\n",
    "g = 7 #geohash length\n",
    "b = 48 # number of time bins per day\n",
    "# Note: b must evenly divide 60\n",
    "minutes_per_bin = int((24 / float(b)) * 60)\n",
    "\n",
    "\n"
   ]
  },
  {
   "cell_type": "code",
   "execution_count": null,
   "metadata": {
    "collapsed": true,
    "deletable": true,
    "editable": true
   },
   "outputs": [],
   "source": [
    "def date_extractor(date_str,b,minutes_per_bin):\n",
    "    # Takes a datetime object as a parameter\n",
    "    # and extracts and returns a tuple of the form: (as per the data specification)\n",
    "    # (time_cat, time_num, time_cos, time_sin, day_cat, day_num, day_cos, day_sin, weekend)\n",
    "    # Split date string into list of date, time\n",
    "    \n",
    "    d = date_str.split()\n",
    "    \n",
    "    #safety check\n",
    "    if len(d) != 2:\n",
    "        return tuple([None,])\n",
    "    \n",
    "    # TIME (eg. for 16:56:20 and 15 mins per bin)\n",
    "    #list of hour,min,sec (e.g. [16,56,20])\n",
    "    time_list = [int(t) for t in d[1].split(':')]\n",
    "    \n",
    "    #safety check\n",
    "    if len(time_list) != 3:\n",
    "        return tuple([None,])\n",
    "    \n",
    "    # calculate number of minute into the day (eg. 1016)\n",
    "    num_minutes = time_list[0] * 60 + time_list[1]\n",
    "    \n",
    "    # Time of the start of the bin\n",
    "    time_bin = num_minutes / minutes_per_bin     # eg. 1005\n",
    "    hour_bin = num_minutes / 60                  # eg. 16\n",
    "    min_bin = (time_bin * minutes_per_bin) % 60  # eg. 45\n",
    "    \n",
    "    #get time_cat\n",
    "    hour_str = str(hour_bin) if hour_bin / 10 > 0 else \"0\" + str(hour_bin)  # eg. \"16\"\n",
    "    min_str = str(min_bin) if min_bin / 10 > 0 else \"0\" + str(min_bin)      # eg. \"45\"\n",
    "    time_cat = hour_str + \":\" + min_str                                     # eg. \"16:45\"\n",
    "    \n",
    "    # Get a floating point representation of the center of the time bin\n",
    "    time_num = (hour_bin*60 + min_bin + minutes_per_bin / 2.0)/(60*24)      # eg. 0.7065972222222222\n",
    "    \n",
    "    time_cos = math.cos(time_num * 2 * math.pi)\n",
    "    time_sin = math.sin(time_num * 2 * math.pi)\n",
    "    \n",
    "    # DATE\n",
    "    # Parse year, month, day\n",
    "    date_list = d[0].split('-')\n",
    "    d_obj = date(int(date_list[0]),int(date_list[1]),int(date_list[2]))\n",
    "    day_to_str = {0: \"Monday\",\n",
    "                  1: \"Tuesday\",\n",
    "                  2: \"Wednesday\",\n",
    "                  3: \"Thursday\",\n",
    "                  4: \"Friday\",\n",
    "                  5: \"Saturday\",\n",
    "                  6: \"Sunday\"}\n",
    "    day_of_week = d_obj.weekday()\n",
    "    day_cat = day_to_str[day_of_week]\n",
    "    day_num = (day_of_week + time_num)/7.0\n",
    "    day_cos = math.cos(day_num * 2 * math.pi)\n",
    "    day_sin = math.sin(day_num * 2 * math.pi)\n",
    "    \n",
    "    year = d_obj.year\n",
    "    month = d_obj.month\n",
    "    day = d_obj.day\n",
    "    \n",
    "    weekend = 0\n",
    "    #check if it is the weekend\n",
    "    if day_of_week in [5,6]:\n",
    "        weekend = 1\n",
    "       \n",
    "    return (year, month, day, time_cat, time_num, time_cos, time_sin, day_cat, day_num, day_cos, day_sin, weekend)\n",
    "\n",
    "def data_cleaner(row):\n",
    "    # takes a tuple (row,g,b,minutes_per_bin) as a parameter and returns a tuple of the form:\n",
    "    # (time_cat, time_num, time_cos, time_sin, day_cat, day_num, day_cos, day_sin, weekend,geohash)\n",
    "    \n",
    "    #safety check: make sure row has enough features\n",
    "    if len(row) < 7:\n",
    "        return None\n",
    "    \n",
    "    #extract day of the week and hour\n",
    "    date_str = row[1]\n",
    "    clean_date = date_extractor(date_str,b,minutes_per_bin)\n",
    "    #get geo hash\n",
    "\n",
    "    #latitude = row[7]\n",
    "    #longitude = row[8]\n",
    "    \n",
    "    (latitude, longitude) = (1234, 1234) #pgh.decode(row[7])\n",
    "    location = (latitude, longitude)\n",
    "    \n",
    "    \n",
    "    #safety check: make sure latitude and longitude are valid\n",
    "    #if latitude < 41.1 and latitude > 40.5 and longitude < -73.6 and longitude > -74.1:\n",
    "    return tuple(list(clean_date)+[row[7].encode('utf-8')])\n",
    "    #else:\n",
    "       # return None"
   ]
  },
  {
   "cell_type": "code",
   "execution_count": 53,
   "metadata": {
    "collapsed": false,
    "deletable": true,
    "editable": true
   },
   "outputs": [
    {
     "name": "stdout",
     "output_type": "stream",
     "text": [
      "[(u'2', u'2017-06-08 07:52:31', u'2017-06-08 08:01:32', u'6', u'1.03', u'1', u'N', u'161', u'140', u'1', u'7.5', u'1', u'0.5', u'1.86', u'0', u'0.3', u'11.16'), (u'2', u'2017-06-08 08:08:18', u'2017-06-08 08:14:00', u'6', u'1.03', u'1', u'N', u'162', u'233', u'1', u'6', u'1', u'0.5', u'2.34', u'0', u'0.3', u'10.14')]\n",
      "[(2017, 6, 8, '07:30', 0.3229166666666667, -0.44228869021900113, 0.8968727415326884, 'Thursday', 0.47470238095238093, -0.9873940820849713, 0.1582811633251951, 0, '161'), (2017, 6, 8, '08:00', 0.34375, -0.555570233019602, 0.8314696123025455, 'Thursday', 0.47767857142857145, -0.9901811253364456, 0.13979033953549938, 0, '162'), (2017, 6, 8, '08:00', 0.34375, -0.555570233019602, 0.8314696123025455, 'Thursday', 0.47767857142857145, -0.9901811253364456, 0.13979033953549938, 0, '137'), (2017, 6, 29, '15:30', 0.65625, -0.5555702330196022, -0.8314696123025452, 'Thursday', 0.5223214285714286, -0.9901811253364455, -0.13979033953549957, 0, '142'), (2017, 6, 1, '00:00', 0.010416666666666666, 0.9978589232386035, 0.06540312923014306, 'Thursday', 0.4300595238095238, -0.9049862302634799, 0.4254408572686641, 0, '140')]\n",
      "+----+-----+---+--------+--------------------+--------------------+-------------------+--------+-------------------+-------------------+--------------------+-------+--------+\n",
      "|Year|month|day|time_cat|            time_num|            time_cos|           time_sin| day_cat|            day_num|            day_cos|             day_sin|weekend|Location|\n",
      "+----+-----+---+--------+--------------------+--------------------+-------------------+--------+-------------------+-------------------+--------------------+-------+--------+\n",
      "|2017|    6|  8|   07:30|  0.3229166666666667|-0.44228869021900113| 0.8968727415326884|Thursday|0.47470238095238093|-0.9873940820849713|  0.1582811633251951|      0|     161|\n",
      "|2017|    6|  8|   08:00|             0.34375|  -0.555570233019602| 0.8314696123025455|Thursday|0.47767857142857145|-0.9901811253364456| 0.13979033953549938|      0|     162|\n",
      "|2017|    6|  8|   08:00|             0.34375|  -0.555570233019602| 0.8314696123025455|Thursday|0.47767857142857145|-0.9901811253364456| 0.13979033953549938|      0|     137|\n",
      "|2017|    6| 29|   15:30|             0.65625| -0.5555702330196022|-0.8314696123025452|Thursday| 0.5223214285714286|-0.9901811253364455|-0.13979033953549957|      0|     142|\n",
      "|2017|    6|  1|   00:00|0.010416666666666666|  0.9978589232386035|0.06540312923014306|Thursday| 0.4300595238095238|-0.9049862302634799|  0.4254408572686641|      0|     140|\n",
      "|2017|    6|  1|   00:00|0.010416666666666666|  0.9978589232386035|0.06540312923014306|Thursday| 0.4300595238095238|-0.9049862302634799|  0.4254408572686641|      0|     132|\n",
      "|2017|    6|  1|   00:00|0.010416666666666666|  0.9978589232386035|0.06540312923014306|Thursday| 0.4300595238095238|-0.9049862302634799|  0.4254408572686641|      0|     138|\n",
      "|2017|    6|  1|   00:00|0.010416666666666666|  0.9978589232386035|0.06540312923014306|Thursday| 0.4300595238095238|-0.9049862302634799|  0.4254408572686641|      0|     132|\n",
      "|2017|    6|  1|   00:00|0.010416666666666666|  0.9978589232386035|0.06540312923014306|Thursday| 0.4300595238095238|-0.9049862302634799|  0.4254408572686641|      0|     148|\n",
      "|2017|    6|  1|   00:00|0.010416666666666666|  0.9978589232386035|0.06540312923014306|Thursday| 0.4300595238095238|-0.9049862302634799|  0.4254408572686641|      0|     114|\n",
      "|2017|    6|  1|   00:00|0.010416666666666666|  0.9978589232386035|0.06540312923014306|Thursday| 0.4300595238095238|-0.9049862302634799|  0.4254408572686641|      0|     234|\n",
      "|2017|    6|  1|   00:00|0.010416666666666666|  0.9978589232386035|0.06540312923014306|Thursday| 0.4300595238095238|-0.9049862302634799|  0.4254408572686641|      0|     263|\n",
      "|2017|    6|  1|   00:00|0.010416666666666666|  0.9978589232386035|0.06540312923014306|Thursday| 0.4300595238095238|-0.9049862302634799|  0.4254408572686641|      0|     229|\n",
      "|2017|    6|  1|   00:00|0.010416666666666666|  0.9978589232386035|0.06540312923014306|Thursday| 0.4300595238095238|-0.9049862302634799|  0.4254408572686641|      0|      48|\n",
      "|2017|    6|  1|   00:00|0.010416666666666666|  0.9978589232386035|0.06540312923014306|Thursday| 0.4300595238095238|-0.9049862302634799|  0.4254408572686641|      0|     234|\n",
      "|2017|    6|  1|   00:00|0.010416666666666666|  0.9978589232386035|0.06540312923014306|Thursday| 0.4300595238095238|-0.9049862302634799|  0.4254408572686641|      0|     162|\n",
      "|2017|    6|  1|   00:00|0.010416666666666666|  0.9978589232386035|0.06540312923014306|Thursday| 0.4300595238095238|-0.9049862302634799|  0.4254408572686641|      0|     249|\n",
      "|2017|    6|  1|   00:00|0.010416666666666666|  0.9978589232386035|0.06540312923014306|Thursday| 0.4300595238095238|-0.9049862302634799|  0.4254408572686641|      0|      45|\n",
      "|2017|    6|  1|   00:00|0.010416666666666666|  0.9978589232386035|0.06540312923014306|Thursday| 0.4300595238095238|-0.9049862302634799|  0.4254408572686641|      0|     261|\n",
      "|2017|    6|  1|   00:00|0.010416666666666666|  0.9978589232386035|0.06540312923014306|Thursday| 0.4300595238095238|-0.9049862302634799|  0.4254408572686641|      0|     100|\n",
      "+----+-----+---+--------+--------------------+--------------------+-------------------+--------+-------------------+-------------------+--------------------+-------+--------+\n",
      "only showing top 20 rows\n",
      "\n",
      "133"
     ]
    }
   ],
   "source": [
    "\n",
    "raw = sc.textFile(\"hdfs:///Projects/demo_tensorflow_abarose0/Jupyter/small.csv\")\n",
    "#raw = sc.textFile(\"yellow_tripdata_2017-06.csv\")\n",
    "\n",
    "\n",
    "headers = raw.first()\n",
    "\n",
    "raw2 = raw.filter(lambda row : row != headers).map(lambda line: tuple(line.split(',')))\n",
    "\n",
    "\n",
    "print(raw2.take(2))\n",
    "\n",
    "gclean_rdd = raw2.map(data_cleaner).filter(lambda row: row != None)\n",
    "\n",
    "print(gclean_rdd.take(5))\n",
    "#print(headers)\n",
    "\n",
    "#save to file\n",
    "#gclean_rdd.saveAsTextFile(\"hdfs:///Projects/demo_tensorflow_abarose0/Jupyter/small5\")\n",
    "\n",
    "from pyspark.sql.types import *\n",
    "\n",
    "schemaString = \"Year month day time_cat time_num time_cos time_sin day_cat day_num day_cos day_sin weekend Location\"\n",
    "fields = [StructField(field_name, StringType(), True) for field_name in schemaString.split()]\n",
    "schema = StructType(fields)\n",
    "raw47 = spark.createDataFrame(gclean_rdd, schema)\n",
    "raw47.write.format(\"com.databricks.spark.csv\").option(\"header\", \"false\").save(\"hdfs:///Projects/demo_tensorflow_abarose0/Jupyter/small7\")\n",
    "print(raw.count())\n",
    "\n",
    "#other testing\n",
    "#pgh.decode('161')\n",
    "#pgh.encode(41,-74,7)\n",
    "#print(pgh.encode(40,74,6))\n"
   ]
  },
  {
   "cell_type": "code",
   "execution_count": 45,
   "metadata": {
    "collapsed": false,
    "deletable": true,
    "editable": true
   },
   "outputs": [
    {
     "name": "stdout",
     "output_type": "stream",
     "text": [
      "[u\"(2017, 6, 8, '07:30', 0.3229166666666667, -0.44228869021900113, 0.8968727415326884, 'Thursday', 0.47470238095238093, -0.9873940820849713, 0.1582811633251951, 0, u'161')\"]"
     ]
    }
   ],
   "source": [
    "headers2 = [\"Year\", \"month\", \"day\", \"time_cat\", \"time_num\", \"time_cos\", \"time_sin\", \"day_cat\", \"day_num\", \"day_cos\", \"day_sin\", \"weekend\", \"Location\"]\n",
    "\n",
    "raw45 = sc.textFile(\"hdfs:///Projects/demo_tensorflow_abarose0/Jupyter/small2\")\n",
    "print(raw45.take(1))\n",
    "#raw46 = raw45.map(lambda x: (x, )).toDF()\n"
   ]
  },
  {
   "cell_type": "code",
   "execution_count": null,
   "metadata": {
    "collapsed": true,
    "deletable": true,
    "editable": true
   },
   "outputs": [],
   "source": []
  },
  {
   "cell_type": "code",
   "execution_count": null,
   "metadata": {
    "collapsed": true,
    "deletable": true,
    "editable": true
   },
   "outputs": [],
   "source": []
  }
 ],
 "metadata": {
  "kernelspec": {
   "display_name": "PySpark",
   "language": "",
   "name": "pysparkkernel"
  },
  "language_info": {
   "codemirror_mode": {
    "name": "python",
    "version": 2
   },
   "mimetype": "text/x-python",
   "name": "pyspark",
   "pygments_lexer": "python2"
  }
 },
 "nbformat": 4,
 "nbformat_minor": 2
}
