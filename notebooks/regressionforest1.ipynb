{
 "cells": [
  {
   "cell_type": "markdown",
   "metadata": {
    "deletable": true,
    "editable": true
   },
   "source": [
    "## Notebook for pickup density for an average day (Approach 1) "
   ]
  },
  {
   "cell_type": "code",
   "execution_count": null,
   "metadata": {
    "collapsed": false,
    "deletable": true,
    "editable": true,
    "scrolled": false
   },
   "outputs": [],
   "source": [
    "from pyspark.ml import Pipeline\n",
    "from pyspark.ml.regression import RandomForestRegressor\n",
    "from pyspark.ml.feature import VectorIndexer\n",
    "from pyspark.ml.evaluation import RegressionEvaluator\n",
    "from pyspark.ml.feature import VectorAssembler\n",
    "from pyspark.ml.feature import StringIndexer\n",
    "from pyspark.ml.tuning import CrossValidator, ParamGridBuilder"
   ]
  },
  {
   "cell_type": "code",
   "execution_count": null,
   "metadata": {
    "collapsed": false,
    "deletable": true,
    "editable": true,
    "scrolled": false
   },
   "outputs": [],
   "source": [
    "\n",
    "# Load and parse the data file, converting it to a DataFrame.\n",
    "data = spark.read.load(\"hdfs:///Projects/ID2223nyctaxi/prepared_taxirides/yellow_and_green_data_finally2\",format='com.databricks.spark.csv', header='true',inferSchema='true')\n",
    "#print(data.take(5))\n",
    "#data.show()\n",
    "#print(data.take(5))\n",
    "\n",
    "timecatIndexer = StringIndexer(inputCol=\"time_cat\", outputCol=\"time_cat_in\")\n",
    "daycatIndexer = StringIndexer(inputCol=\"day_cat\", outputCol=\"day_cat_in\")\n",
    "#pickupIndexer = StringIndexer(inputCol=\"pickup_location\", outputCol=\"pickup_location_in\")\n",
    "#dropoffIndexer = StringIndexer(inputCol=\"dropoff_location\", outputCol=\"dropoff_location_in\")\n",
    "\n",
    "data1 = timecatIndexer.fit(data).transform(data)\n",
    "data2 = daycatIndexer.fit(data).transform(data1)\n",
    "#data3 = pickupIndexer.fit(data).transform(data2)\n",
    "#data4 = dropoffIndexer.fit(data).transform(data3)\n",
    "\n",
    "dataprepper = VectorAssembler(inputCols=[\"year\", \"month\", \"day\", \"time_cat_in\", \"time_num\", \"time_cos\", \"time_sin\",\"day_cat_in\", \"day_num\", \"day_cos\",\"day_sin\", \"weekend\", \"pickup_latitude\", \"pickup_longitude\"], outputCol=\"features\")\n",
    "\n",
    "#pipe = Pipeline(stages=[timecatIndexer,daycatIndexer,pickupIndexer, dropoffIndexer,dataprepper])\n",
    "sdkfj = dataprepper.transform(data2).select(\"features\")\n",
    "\n",
    "print(sdkfj.take(5))\n",
    "sdkfj.show(4)\n",
    "\n",
    "#featureIndexer = VectorIndexer(inputCol=\"features\", outputCol=\"indexedFeatures\", maxCategories=4)\n",
    "#featureIndexer.transform(sdkfj).show()\n",
    "\n",
    "# Automatically identify categorical features, and index them.\n",
    "# Set maxCategories so features with > 4 distinct values are treated as continuous.\n",
    "\n",
    "featureIndexer = VectorIndexer(inputCol=\"features\", outputCol=\"indexedFeatures\", maxCategories=4).fit(sdkfj)\n",
    "\n",
    "# Split the data into training and test sets (30% held out for testing)\n",
    "(trainingData, testData) = data.randomSplit([70, 30])\n",
    "print(trainingData.take(5))\n",
    "\n",
    "# Train a RandomForest model.\n",
    "rf = RandomForestRegressor(featuresCol=\"indexedFeatures\").setMaxBins(48) #.setMaxDepth(10).setNumTrees(25)\n",
    "\n",
    "# Chain indexer and forest in a Pipeline\n",
    "pipeline = Pipeline(stages=[timecatIndexer,daycatIndexer, dataprepper, featureIndexer, rf])\n",
    "\n",
    "# Cross-validator\n",
    "paramGrid = ParamGridBuilder() \\\n",
    ".addGrid(rf.maxDepth, [10,20]) \\\n",
    ".addGrid(rf.numTrees, [15]) \\\n",
    ".build()\n",
    "    \n",
    "cv = CrossValidator(estimator=pipeline, estimatorParamMaps=paramGrid, evaluator= RegressionEvaluator(), numFolds=3)  # use 3+ folds in practice    \n",
    "\n",
    "# Train model. This also runs the indexer.\n",
    "#model = pipeline.fit(trainingData) \n",
    "model = cv.fit(trainingData)\n",
    "\n",
    "# Make predictions.\n",
    "predictions = model.transform(testData)\n",
    "\n",
    "# Select example rows to display.\n",
    "#predictions.sort(\"label\", ascending = False).select(\"prediction\", \"label\").write.format(\"com.databricks.spark.csv\").option(\"header\", \"true\").save(\"hdfs:///Projects/ID2223nyctaxi/predictions/tiny_green_2013-10_no_geohash_res2\")\n",
    "\n",
    "\n",
    "# Select (prediction, true label) and compute test error\n",
    "evaluator = RegressionEvaluator(labelCol=\"label\", predictionCol=\"prediction\", metricName=\"rmse\")\n",
    "rmse = evaluator.evaluate(predictions)\n",
    "print(\"Root Mean Squared Error (RMSE) on test data = %g\" % rmse)\n",
    "\n",
    "#rfModel = model.stages[4]\n",
    "print(model)\n",
    "#print(rfModel)  # summary only\n",
    "\n",
    "model.bestModel.save(\"hdfs:///Projects/ID2223nyctaxi/models/regressionforest1-small-d1-t1\")\n",
    "\n",
    "#print(predictions.select(\"features\").take(5))\n"
   ]
  },
  {
   "cell_type": "code",
   "execution_count": null,
   "metadata": {
    "collapsed": true,
    "deletable": true,
    "editable": true
   },
   "outputs": [],
   "source": []
  },
  {
   "cell_type": "code",
   "execution_count": null,
   "metadata": {
    "collapsed": true,
    "deletable": true,
    "editable": true
   },
   "outputs": [],
   "source": []
  }
 ],
 "metadata": {
  "kernelspec": {
   "display_name": "PySpark",
   "language": "",
   "name": "pysparkkernel"
  },
  "language_info": {
   "codemirror_mode": {
    "name": "python",
    "version": 2
   },
   "mimetype": "text/x-python",
   "name": "pyspark",
   "pygments_lexer": "python2"
  }
 },
 "nbformat": 4,
 "nbformat_minor": 2
}
