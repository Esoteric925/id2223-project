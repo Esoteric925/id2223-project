{
 "cells": [
  {
   "cell_type": "markdown",
   "metadata": {},
   "source": [
    "Notebook for pickup density for an average day (Approach 1) "
   ]
  },
  {
   "cell_type": "code",
   "execution_count": 1,
   "metadata": {
    "collapsed": false,
    "deletable": true,
    "editable": true
   },
   "outputs": [
    {
     "name": "stdout",
     "output_type": "stream",
     "text": [
      "Starting Spark application\n"
     ]
    },
    {
     "data": {
      "text/html": [
       "<table>\n",
       "<tr><th>ID</th><th>YARN Application ID</th><th>Kind</th><th>State</th><th>Spark UI</th><th>Driver log</th><th>Current session?</th></tr><tr><td>3213</td><td>application_1513605045578_0452</td><td>pyspark</td><td>idle</td><td><a target=\"_blank\" href=\"http://hadoop30:8088/proxy/application_1513605045578_0452/\">Link</a></td><td><a target=\"_blank\" href=\"http://hadoop31:8042/node/containerlogs/container_e28_1513605045578_0452_01_000001/ID2223nyctaxi__stornq00\">Link</a></td><td>✔</td></tr></table>"
      ],
      "text/plain": [
       "<IPython.core.display.HTML object>"
      ]
     },
     "metadata": {},
     "output_type": "display_data"
    },
    {
     "name": "stdout",
     "output_type": "stream",
     "text": [
      "SparkSession available as 'spark'.\n"
     ]
    }
   ],
   "source": [
    "from pyspark.ml import Pipeline\n",
    "from pyspark.ml.regression import RandomForestRegressor\n",
    "from pyspark.ml.feature import VectorIndexer\n",
    "from pyspark.ml.evaluation import RegressionEvaluator\n",
    "from pyspark.ml.feature import VectorAssembler\n",
    "from pyspark.ml.feature import StringIndexer"
   ]
  },
  {
   "cell_type": "code",
   "execution_count": null,
   "metadata": {
    "collapsed": false,
    "deletable": true,
    "editable": true,
    "scrolled": false
   },
   "outputs": [
    {
     "name": "stdout",
     "output_type": "stream",
     "text": [
      "[Row(features=DenseVector([2013.0, 10.0, 25.0, 5.0, 0.7188, -0.1951, -0.9808, 3.0, 0.6741, -0.459, -0.8884, 0.0, 40.5872, -73.9539])), Row(features=DenseVector([2013.0, 10.0, 23.0, 24.0, 0.4896, -0.9979, 0.0654, 2.0, 0.3557, -0.6162, 0.7876, 0.0, 40.5873, -73.9539])), Row(features=DenseVector([2013.0, 10.0, 25.0, 4.0, 0.7396, -0.0654, -0.9979, 3.0, 0.6771, -0.4423, -0.8969, 0.0, 40.5873, -73.954])), Row(features=DenseVector([2013.0, 10.0, 11.0, 33.0, 0.3229, -0.4423, 0.8969, 3.0, 0.6176, -0.7394, -0.6733, 0.0, 40.5843, -73.932])), Row(features=DenseVector([2013.0, 10.0, 20.0, 5.0, 0.7188, -0.1951, -0.9808, 5.0, 0.9598, 0.9683, -0.2498, 1.0, 40.682, -74.0073]))]\n",
      "+--------------------+\n",
      "|            features|\n",
      "+--------------------+\n",
      "|[2013.0,10.0,25.0...|\n",
      "|[2013.0,10.0,23.0...|\n",
      "|[2013.0,10.0,25.0...|\n",
      "|[2013.0,10.0,11.0...|\n",
      "+--------------------+\n",
      "only showing top 4 rows\n",
      "\n",
      "[Row(year=2013, month=10, day=1, time_cat=u'00:00', time_num=0.010416666666666666, time_cos=0.9978589232386035, time_sin=0.06540312923014306, day_cat=u'Tuesday', day_num=0.1443452380952381, day_cos=0.6161525479096175, day_sin=0.7876268391214754, weekend=0, pickup_latitude=40.72071075439453, pickup_longitude=-73.84442901611328, label=1.0), Row(year=2013, month=10, day=1, time_cat=u'00:00', time_num=0.010416666666666666, time_cos=0.9978589232386035, time_sin=0.06540312923014306, day_cat=u'Tuesday', day_num=0.1443452380952381, day_cos=0.6161525479096175, day_sin=0.7876268391214754, weekend=0, pickup_latitude=40.721134185791016, pickup_longitude=-73.84381866455078, label=1.0), Row(year=2013, month=10, day=1, time_cat=u'00:00', time_num=0.010416666666666666, time_cos=0.9978589232386035, time_sin=0.06540312923014306, day_cat=u'Tuesday', day_num=0.1443452380952381, day_cos=0.6161525479096175, day_sin=0.7876268391214754, weekend=0, pickup_latitude=40.72119140625, pickup_longitude=-73.84436798095703, label=1.0), Row(year=2013, month=10, day=1, time_cat=u'00:00', time_num=0.010416666666666666, time_cos=0.9978589232386035, time_sin=0.06540312923014306, day_cat=u'Tuesday', day_num=0.1443452380952381, day_cos=0.6161525479096175, day_sin=0.7876268391214754, weekend=0, pickup_latitude=40.74173355102539, pickup_longitude=-73.88081359863281, label=1.0), Row(year=2013, month=10, day=1, time_cat=u'00:00', time_num=0.010416666666666666, time_cos=0.9978589232386035, time_sin=0.06540312923014306, day_cat=u'Tuesday', day_num=0.1443452380952381, day_cos=0.6161525479096175, day_sin=0.7876268391214754, weekend=0, pickup_latitude=40.745418548583984, pickup_longitude=-73.90310668945312, label=1.0)]\n",
      "Root Mean Squared Error (RMSE) on test data = 2.1933\n",
      "StringIndexer_447389ec566aa579a431"
     ]
    }
   ],
   "source": [
    "\n",
    "# Load and parse the data file, converting it to a DataFrame.\n",
    "data = spark.read.load(\"hdfs:///Projects/ID2223nyctaxi/prepared_taxirides/tiny_green_2013-10_no_geohash\",format='com.databricks.spark.csv', header='true',inferSchema='true')\n",
    "#print(data.take(5))\n",
    "#data.show()\n",
    "#print(data.take(5))\n",
    "\n",
    "timecatIndexer = StringIndexer(inputCol=\"time_cat\", outputCol=\"time_cat_in\")\n",
    "daycatIndexer = StringIndexer(inputCol=\"day_cat\", outputCol=\"day_cat_in\")\n",
    "#pickupIndexer = StringIndexer(inputCol=\"pickup_location\", outputCol=\"pickup_location_in\")\n",
    "#dropoffIndexer = StringIndexer(inputCol=\"dropoff_location\", outputCol=\"dropoff_location_in\")\n",
    "\n",
    "data1 = timecatIndexer.fit(data).transform(data)\n",
    "data2 = daycatIndexer.fit(data).transform(data1)\n",
    "#data3 = pickupIndexer.fit(data).transform(data2)\n",
    "#data4 = dropoffIndexer.fit(data).transform(data3)\n",
    "\n",
    "dataprepper = VectorAssembler(inputCols=[\"year\", \"month\", \"day\", \"time_cat_in\", \"time_num\", \"time_cos\", \"time_sin\",\"day_cat_in\", \"day_num\", \"day_cos\",\"day_sin\", \"weekend\", \"pickup_latitude\", \"pickup_longitude\"], outputCol=\"features\")\n",
    "\n",
    "#pipe = Pipeline(stages=[timecatIndexer,daycatIndexer,pickupIndexer, dropoffIndexer,dataprepper])\n",
    "sdkfj = dataprepper.transform(data2).select(\"features\")\n",
    "\n",
    "print(sdkfj.take(5))\n",
    "sdkfj.show(4)\n",
    "\n",
    "#featureIndexer = VectorIndexer(inputCol=\"features\", outputCol=\"indexedFeatures\", maxCategories=4)\n",
    "#featureIndexer.transform(sdkfj).show()\n",
    "\n",
    "# Automatically identify categorical features, and index them.\n",
    "# Set maxCategories so features with > 4 distinct values are treated as continuous.\n",
    "\n",
    "featureIndexer = VectorIndexer(inputCol=\"features\", outputCol=\"indexedFeatures\", maxCategories=4).fit(sdkfj)\n",
    "\n",
    "# Split the data into training and test sets (30% held out for testing)\n",
    "(trainingData, testData) = data.randomSplit([0.8, 0.2])\n",
    "print(trainingData.take(5))\n",
    "\n",
    "# Train a RandomForest model.\n",
    "rf = RandomForestRegressor(featuresCol=\"indexedFeatures\").setMaxBins(48).setMaxDepth(10).setNumTrees(30)\n",
    "\n",
    "# Chain indexer and forest in a Pipeline\n",
    "pipeline = Pipeline(stages=[timecatIndexer,daycatIndexer, dataprepper, featureIndexer, rf])\n",
    "\n",
    "# Train model.  This also runs the indexer.\n",
    "model = pipeline.fit(trainingData)\n",
    "\n",
    "# Make predictions.\n",
    "predictions = model.transform(testData)\n",
    "\n",
    "# Select example rows to display.\n",
    "#predictions.sort(\"label\", ascending = False).select(\"prediction\", \"label\").write.format(\"com.databricks.spark.csv\").option(\"header\", \"true\").save(\"hdfs:///Projects/ID2223nyctaxi/predictions/tiny_green_2013-10_no_geohash_res2\")\n",
    "\n",
    "\n",
    "# Select (prediction, true label) and compute test error\n",
    "evaluator = RegressionEvaluator(labelCol=\"label\", predictionCol=\"prediction\", metricName=\"rmse\")\n",
    "rmse = evaluator.evaluate(predictions)\n",
    "print(\"Root Mean Squared Error (RMSE) on test data = %g\" % rmse)\n",
    "\n",
    "rfModel = model.stages[4]\n",
    "print(rfModel)  # summary only\n",
    "\n",
    "#print(predictions.select(\"features\").take(5))\n"
   ]
  },
  {
   "cell_type": "code",
   "execution_count": null,
   "metadata": {
    "collapsed": true,
    "deletable": true,
    "editable": true
   },
   "outputs": [],
   "source": []
  }
 ],
 "metadata": {
  "kernelspec": {
   "display_name": "PySpark",
   "language": "",
   "name": "pysparkkernel"
  },
  "language_info": {
   "codemirror_mode": {
    "name": "python",
    "version": 2
   },
   "mimetype": "text/x-python",
   "name": "pyspark",
   "pygments_lexer": "python2"
  }
 },
 "nbformat": 4,
 "nbformat_minor": 2
}
