{
 "cells": [
  {
   "cell_type": "markdown",
   "metadata": {
    "deletable": true,
    "editable": true
   },
   "source": [
    "## Notebook for pickup density for a specific time and date in the future (Approach 2) "
   ]
  },
  {
   "cell_type": "code",
   "execution_count": null,
   "metadata": {
    "collapsed": false,
    "deletable": true,
    "editable": true
   },
   "outputs": [],
   "source": [
    "from pyspark.ml import Pipeline\n",
    "from pyspark.ml.regression import RandomForestRegressor\n",
    "from pyspark.ml.feature import VectorIndexer\n",
    "from pyspark.ml.evaluation import RegressionEvaluator\n",
    "from pyspark.ml.feature import VectorAssembler\n",
    "from pyspark.ml.feature import StringIndexer\n",
    "import geohash2 as gh"
   ]
  },
  {
   "cell_type": "code",
   "execution_count": null,
   "metadata": {
    "collapsed": false,
    "deletable": true,
    "editable": true
   },
   "outputs": [],
   "source": [
    "\n",
    "# Load and parse the data file, converting it to a DataFrame.\n",
    "alldata = spark.read.load(\"hdfs:///Projects/ID2223nyctaxi/prepared_taxirides/yellow_and_green_data_no_dropoff\",format='com.databricks.spark.csv', header='true',inferSchema='true') \n",
    "trainingdata = alldata.filter(alldata.year < 2015)\n",
    "print(alldata.count())\n",
    "print(trainingdata.count())\n",
    "\n",
    "#String indexers for string features\n",
    "timecatIndexer = StringIndexer(inputCol=\"time_cat\", outputCol=\"time_cat_in\")\n",
    "daycatIndexer = StringIndexer(inputCol=\"day_cat\", outputCol=\"day_cat_in\")\n",
    "\n",
    "\n",
    "data1 = timecatIndexer.fit(trainingdata).transform(trainingdata)\n",
    "data2 = daycatIndexer.fit(trainingdata).transform(data1)\n",
    "\n",
    "\n",
    "cols = [\"PRCP\", \"SNWD\", \"SNOW\", \"TMAX\", \"TMIN\", \"AWND\", \"year\", \"month\", \"day\", \"time_cat_in\", \"time_num\", \"time_cos\", \"time_sin\",\"day_cat_in\", \"day_num\", \"day_cos\",\"day_sin\", \"weekend\", \"pickup_latitude\", \"pickup_longitude\"]\n",
    "dataprepper = VectorAssembler(inputCols=cols, outputCol=\"features\")\n",
    "\n",
    "#pipe = Pipeline(stages=[timecatIndexer,daycatIndexer,pickupIndexer, dropoffIndexer,dataprepper])\n",
    "sdkfj = dataprepper.transform(data2).select(\"features\")\n",
    "\n",
    "# Automatically identify categorical features, and index them.\n",
    "# Set maxCategories so features with > 4 distinct values are treated as continuous.\n",
    "\n",
    "featureIndexer = VectorIndexer(inputCol=\"features\", outputCol=\"indexedFeatures\", maxCategories=4).fit(sdkfj)\n",
    "\n",
    "# Train a RandomForest model.\n",
    "rf = RandomForestRegressor(featuresCol=\"features\").setMaxBins(48).setMaxDepth(5).setNumTrees(30)\n",
    "\n",
    "# Chain indexer and forest in a Pipeline\n",
    "pipeline = Pipeline(stages=[timecatIndexer,daycatIndexer, dataprepper, rf])\n",
    "\n",
    "# Train model.  This also runs the indexer.\n",
    "model = pipeline.fit(trainingdata)\n",
    "\n",
    "# Load testdata. \n",
    "alltestDataRaw = spark.read.load(\"hdfs:///Projects/ID2223nyctaxi/prepared_taxirides/yellow_and_green_data_no_dropoff\",format='com.databricks.spark.csv', header='true',inferSchema='true')\n",
    "testDataRaw = alltestDataRaw.filter(alltestDataRaw.year == 2015)\n",
    "print(testDataRaw.count())\n",
    "# Make predictions.\n",
    "predictions = model.transform(testDataRaw)\n",
    "#predictions.show(5)\n",
    "\n",
    "\n",
    "# Select (prediction, true label) and compute test error\n",
    "evaluator = RegressionEvaluator(labelCol=\"label\", predictionCol=\"prediction\", metricName=\"rmse\")\n",
    "rmse = evaluator.evaluate(predictions)\n",
    "print(\"Root Mean Squared Error (RMSE) on test data = %g\" % rmse)\n",
    "\n",
    "rfModel = model.stages[3]\n",
    "print(rfModel)  # summary only"
   ]
  },
  {
   "cell_type": "code",
   "execution_count": null,
   "metadata": {
    "collapsed": true,
    "deletable": true,
    "editable": true
   },
   "outputs": [],
   "source": []
  }
 ],
 "metadata": {
  "kernelspec": {
   "display_name": "PySpark",
   "language": "",
   "name": "pysparkkernel"
  },
  "language_info": {
   "codemirror_mode": {
    "name": "python",
    "version": 2
   },
   "mimetype": "text/x-python",
   "name": "pyspark",
   "pygments_lexer": "python2"
  }
 },
 "nbformat": 4,
 "nbformat_minor": 2
}
